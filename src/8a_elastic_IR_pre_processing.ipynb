{
 "cells": [
  {
   "cell_type": "code",
   "execution_count": 7,
   "metadata": {},
   "outputs": [],
   "source": [
    "from see.keysight import read_see_data_directory"
   ]
  },
  {
   "cell_type": "markdown",
   "metadata": {},
   "source": [
    "## Load experimental data"
   ]
  },
  {
   "cell_type": "code",
   "execution_count": 10,
   "metadata": {},
   "outputs": [],
   "source": [
    "experimental_data = {\n",
    "    \"100\": {\n",
    "        \"granite\": read_see_data_directory(\"./data/06_12_2023/granite\"),\n",
    "        \"aluminium\": read_see_data_directory(\"./data/06_12_2023/aluminium\"),\n",
    "        \"glass\": read_see_data_directory(\"./data/06_12_2023/glass\"),\n",
    "        \"plastic\": read_see_data_directory(\"./data/06_12_2023/plastic\"),\n",
    "        \"sandstone\": read_see_data_directory(\"./data/06_12_2023/sandstone\"),\n",
    "        \"homogeneous\": read_see_data_directory(\"./data/06_12_2023/homogeneous\"),\n",
    "    },\n",
    "    \"36\": {\n",
    "        \"granite\": read_see_data_directory(\"./data/13_12_2023/granite\"),\n",
    "        \"aluminium\": read_see_data_directory(\"./data/13_12_2023/aluminium\"),\n",
    "        \"glass\": read_see_data_directory(\"./data/13_12_2023/glass_2\"),\n",
    "        \"plastic\": read_see_data_directory(\"./data/13_12_2023/plastic_2\"),\n",
    "        \"sandstone\": read_see_data_directory(\"./data/13_12_2023/sandstone\"),\n",
    "        \"fontainebleau\": read_see_data_directory(\"./data/13_12_2023/fontainebleau\"),\n",
    "    }\n",
    "}"
   ]
  }
 ],
 "metadata": {
  "kernelspec": {
   "display_name": "base",
   "language": "python",
   "name": "python3"
  },
  "language_info": {
   "codemirror_mode": {
    "name": "ipython",
    "version": 3
   },
   "file_extension": ".py",
   "mimetype": "text/x-python",
   "name": "python",
   "nbconvert_exporter": "python",
   "pygments_lexer": "ipython3",
   "version": "3.8.8"
  }
 },
 "nbformat": 4,
 "nbformat_minor": 2
}
