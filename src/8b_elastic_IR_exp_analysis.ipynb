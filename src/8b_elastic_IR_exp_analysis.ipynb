{
 "cells": [
  {
   "cell_type": "markdown",
   "metadata": {},
   "source": [
    "# 8b - Elastic/Poroelastic interface response (Signals analysis)"
   ]
  },
  {
   "cell_type": "code",
   "execution_count": 2,
   "metadata": {},
   "outputs": [],
   "source": [
    "import numpy as np\n",
    "import matplotlib.pyplot as plt\n",
    "from scipy import signal\n",
    "from see.keysight import Trace\n",
    "from see.misc import find_nearest\n",
    "\n",
    "plt.style.use(\"natael_styles\")"
   ]
  },
  {
   "cell_type": "markdown",
   "metadata": {},
   "source": [
    "## Load experimental resampled data"
   ]
  },
  {
   "cell_type": "code",
   "execution_count": 4,
   "metadata": {},
   "outputs": [],
   "source": [
    "experimental_data = {\n",
    "    \"36\": np.load(\"./data/13_12_2023/resampled_experimental_data.npy\", allow_pickle=True).item(),\n",
    "    \"100\": np.load(\"./data/06_12_2023/resampled_experimental_data.npy\", allow_pickle=True).item(),\n",
    "}\n",
    "\n",
    "interface_offsets = {\n",
    "    \"36\": np.load(\"./data/13_12_2023/interface_offsets.npy\", allow_pickle=True).item(),\n",
    "    \"100\": np.load(\"./data/06_12_2023/interface_offsets.npy\", allow_pickle=True).item(),\n",
    "}\n",
    "\n",
    "source_offsets = {\n",
    "    \"36\": np.load(\"./data/13_12_2023/source_offsets.npy\", allow_pickle=True).item(),\n",
    "    \"100\": np.load(\"./data/06_12_2023/source_offsets.npy\", allow_pickle=True).item(),\n",
    "}"
   ]
  }
 ],
 "metadata": {
  "kernelspec": {
   "display_name": "base",
   "language": "python",
   "name": "python3"
  },
  "language_info": {
   "codemirror_mode": {
    "name": "ipython",
    "version": 3
   },
   "file_extension": ".py",
   "mimetype": "text/x-python",
   "name": "python",
   "nbconvert_exporter": "python",
   "pygments_lexer": "ipython3",
   "version": "3.8.8"
  }
 },
 "nbformat": 4,
 "nbformat_minor": 2
}
